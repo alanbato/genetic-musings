{
 "cells": [
  {
   "cell_type": "markdown",
   "metadata": {},
   "source": [
    "# Password Guesser"
   ]
  },
  {
   "cell_type": "code",
   "execution_count": 1,
   "metadata": {
    "collapsed": true
   },
   "outputs": [],
   "source": [
    "import random\n",
    "import datetime"
   ]
  },
  {
   "cell_type": "code",
   "execution_count": 2,
   "metadata": {
    "collapsed": true
   },
   "outputs": [],
   "source": [
    "gene_set = \" abcdefhijklmnopqrstuvwxyzABCDEFGHIJKLMNOPQRSTUVWXYZ!.\"\n",
    "target = \"You will never crack this password!\""
   ]
  },
  {
   "cell_type": "code",
   "execution_count": 3,
   "metadata": {
    "collapsed": true
   },
   "outputs": [],
   "source": [
    "def generate_genes(length):\n",
    "    genes = []\n",
    "    while len(genes) < length:\n",
    "        sample_size = min(length - len(genes), len(gene_set))\n",
    "        genes.extend(random.sample(gene_set, sample_size))\n",
    "    return \"\".join(genes)"
   ]
  },
  {
   "cell_type": "code",
   "execution_count": 4,
   "metadata": {},
   "outputs": [
    {
     "name": "stdout",
     "output_type": "stream",
     "text": [
      "iqDmJfXxGA\n"
     ]
    }
   ],
   "source": [
    "example = generate_genes(10)\n",
    "print(example)"
   ]
  },
  {
   "cell_type": "code",
   "execution_count": 5,
   "metadata": {
    "collapsed": true
   },
   "outputs": [],
   "source": [
    "def get_fitness(guess):\n",
    "    return sum(1 for expected, actual in zip(target, guess) if expected == actual)"
   ]
  },
  {
   "cell_type": "code",
   "execution_count": 6,
   "metadata": {},
   "outputs": [
    {
     "data": {
      "text/plain": [
       "0"
      ]
     },
     "execution_count": 6,
     "metadata": {},
     "output_type": "execute_result"
    }
   ],
   "source": [
    "get_fitness(example)"
   ]
  },
  {
   "cell_type": "code",
   "execution_count": 7,
   "metadata": {
    "collapsed": true
   },
   "outputs": [],
   "source": [
    "def mutate(parent):\n",
    "    index = random.randrange(0, len(parent))\n",
    "    child_genes = list(parent)\n",
    "    new_gene, alternate_gene = random.sample(gene_set, 2)\n",
    "    child_genes[index] = new_gene if new_gene != child_genes[index] else alternate_gene\n",
    "    return \"\".join(child_genes)"
   ]
  },
  {
   "cell_type": "code",
   "execution_count": 8,
   "metadata": {},
   "outputs": [
    {
     "name": "stdout",
     "output_type": "stream",
     "text": [
      "iqDmJfXxGA\n"
     ]
    },
    {
     "data": {
      "text/plain": [
       "'iQDmJfXxGA'"
      ]
     },
     "execution_count": 8,
     "metadata": {},
     "output_type": "execute_result"
    }
   ],
   "source": [
    "print(example)\n",
    "mutate(example)"
   ]
  },
  {
   "cell_type": "code",
   "execution_count": 9,
   "metadata": {
    "collapsed": true
   },
   "outputs": [],
   "source": [
    "def display(guess, start_time):\n",
    "    time_diff = datetime.datetime.now() - start_time\n",
    "    fitness = get_fitness(guess)\n",
    "    print(\"{0}\\t{1}\\t{2}\".format(guess, fitness, str(time_diff)))"
   ]
  },
  {
   "cell_type": "code",
   "execution_count": 10,
   "metadata": {
    "collapsed": true
   },
   "outputs": [],
   "source": [
    "def main():\n",
    "    random.seed()\n",
    "    start_time = datetime.datetime.now()\n",
    "    best_genes = generate_genes(len(target))\n",
    "    best_fitness = get_fitness(best_genes)\n",
    "    display(best_genes, start_time)\n",
    "    while True:\n",
    "        child = mutate(best_genes)\n",
    "        child_fitness = get_fitness(child)\n",
    "        if best_fitness >= child_fitness:\n",
    "            continue\n",
    "        display(child, start_time)\n",
    "        if child_fitness >= len(best_genes):\n",
    "            break\n",
    "        best_fitness = child_fitness\n",
    "        best_genes = child"
   ]
  },
  {
   "cell_type": "code",
   "execution_count": 11,
   "metadata": {},
   "outputs": [
    {
     "name": "stdout",
     "output_type": "stream",
     "text": [
      "mIovUOwCXWLHtFsiqnVJudM.heZSEpkaBYx\t0\t0:00:00.000355\n",
      "mIovUOwC WLHtFsiqnVJudM.heZSEpkaBYx\t1\t0:00:00.006918\n",
      "moovUOwC WLHtFsiqnVJudM.heZSEpkaBYx\t2\t0:00:00.010752\n",
      "moovUOwC WLHtFsiqnVJudM.heZSEskaBYx\t3\t0:00:00.012179\n",
      "moovUOwC WLHtF iqnVJudM.heZSEskaBYx\t4\t0:00:00.014341\n",
      "moovUOwC WLHtF iqnVJ dM.heZSEskaBYx\t5\t0:00:00.015468\n",
      "moovUOwC WLHtF iqnVJ dM.heZSEskaBdx\t6\t0:00:00.018364\n",
      "moovUOwC WLHtF iqnVJ dMiheZSEskaBdx\t7\t0:00:00.019758\n",
      "moovUOwC WLHtF iqnVJ tMiheZSEskaBdx\t8\t0:00:00.022544\n",
      "moovUOwC WLHtr iqnVJ tMiheZSEskaBdx\t9\t0:00:00.025549\n",
      "moovUOwC WLHtr iqnVk tMiheZSEskaBdx\t10\t0:00:00.028813\n",
      "moovUOwC WLHtr iqaVk tMiheZSEskaBdx\t11\t0:00:00.035250\n",
      "moovUOwC WLHtr iqaVk tMih ZSEskaBdx\t12\t0:00:00.035874\n",
      "moovUOwC WLHtr iqaVk tMih ZSsskaBdx\t13\t0:00:00.046035\n",
      "moovUOwC WLvtr iqaVk tMih ZSsskaBdx\t14\t0:00:00.048605\n",
      "moovUOwl WLvtr iqaVk tMih ZSsskaBdx\t15\t0:00:00.050856\n",
      "moovUOwl WLver iqaVk tMih ZSsskaBdx\t16\t0:00:00.053624\n",
      "moovUOwl Wever iqaVk tMih ZSsskaBdx\t17\t0:00:00.061066\n",
      "moovUOwl Wever iqack tMih ZSsskaBdx\t18\t0:00:00.064983\n",
      "moovwOwl Wever iqack tMih ZSsskaBdx\t19\t0:00:00.073848\n",
      "moovwOwl Wever iqack tMih ZasskaBdx\t20\t0:00:00.074569\n",
      "moovwOwl Wever iqack tMih ZasswaBdx\t21\t0:00:00.082229\n",
      "YoovwOwl Wever iqack tMih ZasswaBdx\t22\t0:00:00.083968\n",
      "YoovwOll Wever iqack tMih ZasswaBdx\t23\t0:00:00.093647\n",
      "YouvwOll Wever iqack tMih ZasswaBdx\t24\t0:00:00.101089\n",
      "YouvwOll Wever iqack tMih ZasswoBdx\t25\t0:00:00.106230\n",
      "You wOll Wever iqack tMih ZasswoBdx\t26\t0:00:00.107978\n",
      "You wOll never iqack tMih ZasswoBdx\t27\t0:00:00.108372\n",
      "You wOll never iqack thih ZasswoBdx\t28\t0:00:00.122893\n",
      "You wOll never irack thih ZasswoBdx\t29\t0:00:00.141000\n",
      "You wOll never irack thih passwoBdx\t30\t0:00:00.172606\n",
      "You wOll never irack thih passwordx\t31\t0:00:00.184185\n",
      "You wOll never irack this passwordx\t32\t0:00:00.251221\n",
      "You will never irack this passwordx\t33\t0:00:00.285094\n",
      "You will never crack this passwordx\t34\t0:00:00.335353\n",
      "You will never crack this password!\t35\t0:00:00.527629\n"
     ]
    }
   ],
   "source": [
    "main()"
   ]
  }
 ],
 "metadata": {
  "kernelspec": {
   "display_name": "Python 3",
   "language": "python",
   "name": "python3"
  },
  "language_info": {
   "codemirror_mode": {
    "name": "ipython",
    "version": 3
   },
   "file_extension": ".py",
   "mimetype": "text/x-python",
   "name": "python",
   "nbconvert_exporter": "python",
   "pygments_lexer": "ipython3",
   "version": "3.6.1"
  }
 },
 "nbformat": 4,
 "nbformat_minor": 2
}
