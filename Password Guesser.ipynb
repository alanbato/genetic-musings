{
 "cells": [
  {
   "cell_type": "markdown",
   "metadata": {},
   "source": [
    "# Password Guesser"
   ]
  },
  {
   "cell_type": "code",
   "execution_count": 31,
   "metadata": {
    "collapsed": true
   },
   "outputs": [],
   "source": [
    "import random\n",
    "import datetime"
   ]
  },
  {
   "cell_type": "code",
   "execution_count": 62,
   "metadata": {
    "collapsed": true
   },
   "outputs": [],
   "source": [
    "gene_set = \" abcdefhijklmnopqrstuvwxyzABCDEFGHIJKLMNOPQRSTUVWXYZ!.\"\n",
    "target = \"You will never crack this password!\""
   ]
  },
  {
   "cell_type": "code",
   "execution_count": 33,
   "metadata": {
    "collapsed": true
   },
   "outputs": [],
   "source": [
    "def generate_genes(length):\n",
    "    genes = []\n",
    "    while len(genes) < length:\n",
    "        sample_size = min(length - len(genes), len(gene_set))\n",
    "        genes.extend(random.sample(gene_set, sample_size))\n",
    "    return \"\".join(genes)"
   ]
  },
  {
   "cell_type": "code",
   "execution_count": 68,
   "metadata": {},
   "outputs": [
    {
     "name": "stdout",
     "output_type": "stream",
     "text": [
      "DtjJYKSX.d\n"
     ]
    }
   ],
   "source": [
    "example = generate_genes(10)\n",
    "print(example)"
   ]
  },
  {
   "cell_type": "code",
   "execution_count": 34,
   "metadata": {
    "collapsed": true
   },
   "outputs": [],
   "source": [
    "def get_fitness(guess):\n",
    "    return sum(1 for expected, actual in zip(target, guess) if expected == actual)"
   ]
  },
  {
   "cell_type": "code",
   "execution_count": 67,
   "metadata": {},
   "outputs": [
    {
     "data": {
      "text/plain": [
       "1"
      ]
     },
     "execution_count": 67,
     "metadata": {},
     "output_type": "execute_result"
    }
   ],
   "source": [
    "get_fitness(example)"
   ]
  },
  {
   "cell_type": "code",
   "execution_count": 35,
   "metadata": {
    "collapsed": true
   },
   "outputs": [],
   "source": [
    "def mutate(parent):\n",
    "    index = random.randrange(0, len(parent))\n",
    "    child_genes = list(parent)\n",
    "    new_gene, alternate_gene = random.sample(gene_set, 2)\n",
    "    child_genes[index] = new_gene if new_gene != child_genes[index] else alternate_gene\n",
    "    return \"\".join(child_genes)"
   ]
  },
  {
   "cell_type": "code",
   "execution_count": 71,
   "metadata": {},
   "outputs": [
    {
     "name": "stdout",
     "output_type": "stream",
     "text": [
      "DtjJYKSX.d\n"
     ]
    },
    {
     "data": {
      "text/plain": [
       "'DtjJfKSX.d'"
      ]
     },
     "execution_count": 71,
     "metadata": {},
     "output_type": "execute_result"
    }
   ],
   "source": [
    "print(example)\n",
    "mutate(example)"
   ]
  },
  {
   "cell_type": "code",
   "execution_count": 40,
   "metadata": {
    "collapsed": true
   },
   "outputs": [],
   "source": [
    "def display(guess):\n",
    "    time_diff = datetime.datetime.now() - start_time\n",
    "    fitness = get_fitness(guess)\n",
    "    print(\"{0}\\t{1}\\t{2}\".format(guess, fitness, str(time_diff)))"
   ]
  },
  {
   "cell_type": "code",
   "execution_count": 65,
   "metadata": {
    "collapsed": true
   },
   "outputs": [],
   "source": [
    "def main():\n",
    "    random.seed()\n",
    "    start_time = datetime.datetime.now()\n",
    "    best_genes = generate_genes(len(target))\n",
    "    best_fitness = get_fitness(best_genes)\n",
    "    display(best_genes)\n",
    "    while True:\n",
    "        child = mutate(best_genes)\n",
    "        child_fitness = get_fitness(child)\n",
    "        if best_fitness >= child_fitness:\n",
    "            continue\n",
    "        display(child)\n",
    "        if child_fitness >= len(best_genes):\n",
    "            break\n",
    "        best_fitness = child_fitness\n",
    "        best_genes = child"
   ]
  },
  {
   "cell_type": "code",
   "execution_count": 64,
   "metadata": {},
   "outputs": [
    {
     "name": "stdout",
     "output_type": "stream",
     "text": [
      "wdrbIlXTKJQezjsv\t1\t0:39:35.617401\n",
      "wdrbIlXTKJaezjsv\t2\t0:39:35.618848\n",
      "wdrbIlXT Jaezjsv\t3\t0:39:35.619129\n",
      "wdrbIlsT Jaezjsv\t4\t0:39:35.623440\n",
      "wdrbIlsT Jaezasv\t5\t0:39:35.625856\n",
      "wdrbIlsT Jaeeasv\t6\t0:39:35.627692\n",
      "wdruIlsT Jaeeasv\t7\t0:39:35.631897\n",
      "wdruclsT Jaeeasv\t8\t0:39:35.633620\n",
      "wdruclsT Jaeeass\t9\t0:39:35.642040\n",
      "wdruclsT Ja eass\t10\t0:39:35.649615\n",
      "wdruclse Ja eass\t11\t0:39:35.654022\n",
      "wdruclse Ja eats\t12\t0:39:35.656923\n",
      "Bdruclse Ja eats\t13\t0:39:35.662598\n",
      "Bdruc se Ja eats\t14\t0:39:35.663868\n",
      "Baruc se Ja eats\t15\t0:39:35.746907\n",
      "Baruc se la eats\t16\t0:39:35.775203\n"
     ]
    }
   ],
   "source": [
    "main()"
   ]
  }
 ],
 "metadata": {
  "kernelspec": {
   "display_name": "Python 3",
   "language": "python",
   "name": "python3"
  },
  "language_info": {
   "codemirror_mode": {
    "name": "ipython",
    "version": 3
   },
   "file_extension": ".py",
   "mimetype": "text/x-python",
   "name": "python",
   "nbconvert_exporter": "python",
   "pygments_lexer": "ipython3",
   "version": "3.6.1"
  }
 },
 "nbformat": 4,
 "nbformat_minor": 2
}
